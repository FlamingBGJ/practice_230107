{
  "cells": [
    {
      "cell_type": "code",
      "execution_count": 1,
      "metadata": {
        "colab": {
          "base_uri": "https://localhost:8080/",
          "height": 424
        },
        "id": "ahsoOMjLswtf",
        "outputId": "43edb9b1-7888-4fd7-b0d7-a85e622d37c0"
      },
      "outputs": [],
      "source": [
        "import pandas as pd\n",
        "import numpy as np\n",
        "import seaborn as sns\n",
        "from sklearn.preprocessing import OneHotEncoder\n",
        "\n",
        "df = sns.load_dataset(\"titanic\")"
      ]
    },
    {
      "cell_type": "code",
      "execution_count": 2,
      "metadata": {
        "id": "uQmoRURGuC3c"
      },
      "outputs": [],
      "source": [
        "df = df.reset_index(drop=True)"
      ]
    },
    {
      "cell_type": "code",
      "execution_count": 4,
      "metadata": {
        "colab": {
          "base_uri": "https://localhost:8080/"
        },
        "id": "gcqVqkgiuKCo",
        "outputId": "acc8273c-7149-4f3f-bcbc-5c9e1a5d4426"
      },
      "outputs": [],
      "source": [
        "cols = [\"pclass\",\t\"sex\",\t\"age\",\t\"sibsp\",\t\"parch\",\t\"fare\",\t\"embarked\"]\n",
        "x = df[cols]"
      ]
    },
    {
      "attachments": {},
      "cell_type": "markdown",
      "metadata": {},
      "source": [
        "- Survived : 0 = 사망, 1 = 생존\n",
        "- Pclass : 1 = 1등석, 2 = 2등석, 3 = 3등석\n",
        "- Sex : male = 남성, female = 여성\n",
        "- Age : 나이\n",
        "- SibSp : 타이타닉 호에 동승한 자매 / 배우자의 수\n",
        "- Parch : 타이타닉 호에 동승한 부모 / 자식의 수\n",
        "- Ticket : 티켓 번호\n",
        "- Fare : 승객 요금\n",
        "- Cabin : 방 호수\n",
        "- Embarked : 탑승지, C = 셰르부르, Q = 퀸즈타운, S = 사우샘프턴"
      ]
    },
    {
      "cell_type": "code",
      "execution_count": 5,
      "metadata": {},
      "outputs": [
        {
          "name": "stdout",
          "output_type": "stream",
          "text": [
            "<class 'pandas.core.frame.DataFrame'>\n",
            "RangeIndex: 891 entries, 0 to 890\n",
            "Data columns (total 7 columns):\n",
            " #   Column    Non-Null Count  Dtype  \n",
            "---  ------    --------------  -----  \n",
            " 0   pclass    891 non-null    int64  \n",
            " 1   sex       891 non-null    object \n",
            " 2   age       714 non-null    float64\n",
            " 3   sibsp     891 non-null    int64  \n",
            " 4   parch     891 non-null    int64  \n",
            " 5   fare      891 non-null    float64\n",
            " 6   embarked  889 non-null    object \n",
            "dtypes: float64(2), int64(3), object(2)\n",
            "memory usage: 48.9+ KB\n"
          ]
        }
      ],
      "source": [
        "x.info()"
      ]
    },
    {
      "cell_type": "markdown",
      "metadata": {
        "id": "dSRte194uJ-k"
      },
      "source": [
        "# 결측치(Missing Value)\n"
      ]
    },
    {
      "cell_type": "code",
      "execution_count": 6,
      "metadata": {
        "colab": {
          "base_uri": "https://localhost:8080/"
        },
        "id": "EWSagH5WuJ79",
        "outputId": "de4a4c64-fda5-4f46-c2d7-4f7dcedbf70f"
      },
      "outputs": [
        {
          "name": "stdout",
          "output_type": "stream",
          "text": [
            "<class 'pandas.core.frame.DataFrame'>\n",
            "RangeIndex: 891 entries, 0 to 890\n",
            "Data columns (total 7 columns):\n",
            " #   Column    Non-Null Count  Dtype  \n",
            "---  ------    --------------  -----  \n",
            " 0   pclass    891 non-null    int64  \n",
            " 1   sex       891 non-null    object \n",
            " 2   age       714 non-null    float64\n",
            " 3   sibsp     891 non-null    int64  \n",
            " 4   parch     891 non-null    int64  \n",
            " 5   fare      891 non-null    float64\n",
            " 6   embarked  889 non-null    object \n",
            "dtypes: float64(2), int64(3), object(2)\n",
            "memory usage: 48.9+ KB\n"
          ]
        }
      ],
      "source": [
        "x.info()"
      ]
    },
    {
      "cell_type": "markdown",
      "metadata": {
        "id": "KLv9t74NuJ5U"
      },
      "source": [
        "## 통계치를 이용하여 결측값 채우기\n"
      ]
    },
    {
      "cell_type": "markdown",
      "metadata": {
        "id": "-UOU6LzTuJ3e"
      },
      "source": [
        "### Pandas 메소드를 이용한 방법\n"
      ]
    },
    {
      "cell_type": "code",
      "execution_count": 7,
      "metadata": {
        "colab": {
          "base_uri": "https://localhost:8080/"
        },
        "id": "EYmF2KrTuJzt",
        "outputId": "167eda6d-79a0-4ee5-924c-fdd8705c9d5e"
      },
      "outputs": [
        {
          "name": "stderr",
          "output_type": "stream",
          "text": [
            "/tmp/ipykernel_20207/3605151700.py:2: SettingWithCopyWarning: \n",
            "A value is trying to be set on a copy of a slice from a DataFrame\n",
            "\n",
            "See the caveats in the documentation: https://pandas.pydata.org/pandas-docs/stable/user_guide/indexing.html#returning-a-view-versus-a-copy\n",
            "  x[\"age\"].fillna(age_median, inplace=True)\n"
          ]
        }
      ],
      "source": [
        "age_median = x[\"age\"].median()\n",
        "x[\"age\"].fillna(age_median, inplace=True)"
      ]
    },
    {
      "cell_type": "code",
      "execution_count": 8,
      "metadata": {
        "colab": {
          "base_uri": "https://localhost:8080/"
        },
        "id": "c5ChtstH6MiF",
        "outputId": "7301e490-70f5-45d0-addd-370b86fad1b5"
      },
      "outputs": [
        {
          "name": "stderr",
          "output_type": "stream",
          "text": [
            "/tmp/ipykernel_20207/3123882648.py:1: SettingWithCopyWarning: \n",
            "A value is trying to be set on a copy of a slice from a DataFrame\n",
            "\n",
            "See the caveats in the documentation: https://pandas.pydata.org/pandas-docs/stable/user_guide/indexing.html#returning-a-view-versus-a-copy\n",
            "  x[\"embarked\"].fillna( method='ffill', inplace=True)\n"
          ]
        }
      ],
      "source": [
        "x[\"embarked\"].fillna( method='ffill', inplace=True)"
      ]
    },
    {
      "cell_type": "code",
      "execution_count": 9,
      "metadata": {
        "colab": {
          "base_uri": "https://localhost:8080/",
          "height": 562
        },
        "id": "Qs0XpPm86MgQ",
        "outputId": "c533b703-a661-45db-e05f-28c34de3b45d"
      },
      "outputs": [
        {
          "name": "stdout",
          "output_type": "stream",
          "text": [
            "<class 'pandas.core.frame.DataFrame'>\n",
            "RangeIndex: 891 entries, 0 to 890\n",
            "Data columns (total 7 columns):\n",
            " #   Column    Non-Null Count  Dtype  \n",
            "---  ------    --------------  -----  \n",
            " 0   pclass    891 non-null    int64  \n",
            " 1   sex       891 non-null    object \n",
            " 2   age       891 non-null    float64\n",
            " 3   sibsp     891 non-null    int64  \n",
            " 4   parch     891 non-null    int64  \n",
            " 5   fare      891 non-null    float64\n",
            " 6   embarked  891 non-null    object \n",
            "dtypes: float64(2), int64(3), object(2)\n",
            "memory usage: 48.9+ KB\n"
          ]
        }
      ],
      "source": [
        "x.info()"
      ]
    },
    {
      "attachments": {},
      "cell_type": "markdown",
      "metadata": {},
      "source": [
        "# Encoding"
      ]
    },
    {
      "cell_type": "markdown",
      "metadata": {
        "id": "3H7e3Rc76Md-"
      },
      "source": [
        "- 범주형 인코딩"
      ]
    },
    {
      "attachments": {
        "image.png": {
          "image/png": "[encoded data removed]"
        }
      },
      "cell_type": "markdown",
      "metadata": {
        "id": "7FlwVyKmAgk0"
      },
      "source": [
        "![image.png](attachment:image.png)"
      ]
    },
    {
      "cell_type": "code",
      "execution_count": 10,
      "metadata": {},
      "outputs": [],
      "source": [
        "from sklearn.preprocessing import LabelEncoder, OneHotEncoder\n",
        "import numpy as np\n",
        "\n",
        "items = ['사과', '딸기', '포도', '배', '망고', '망고', '바나나', '바나나']"
      ]
    },
    {
      "cell_type": "code",
      "execution_count": 11,
      "metadata": {},
      "outputs": [
        {
          "name": "stdout",
          "output_type": "stream",
          "text": [
            "Label tranform :  [4 0 5 3 1 1 2 2]\n",
            "Encoding Class :  ['딸기' '망고' '바나나' '배' '사과' '포도']\n",
            "Inverse Transform :  ['딸기' '망고' '사과' '포도' '배' '배' '바나나' '바나나']\n"
          ]
        }
      ],
      "source": [
        "\n",
        "#LabelEncoder를 객체로 생성한 후 fit()과 transform()으로 레이블 인코딩 수행\n",
        "encoder = LabelEncoder()\n",
        "encoder.fit(items)\n",
        "labels = encoder.transform(items)\n",
        "print('Label tranform : ', labels)\n",
        "print('Encoding Class : ', encoder.classes_)\n",
        "print('Inverse Transform : ', encoder.inverse_transform([0, 1, 4, 5, 3, 3, 2, 2]))"
      ]
    },
    {
      "cell_type": "code",
      "execution_count": 12,
      "metadata": {},
      "outputs": [
        {
          "name": "stdout",
          "output_type": "stream",
          "text": [
            "##원핫인코딩##\n",
            "[4 0 5 3 1 1 2 2]\n"
          ]
        }
      ],
      "source": [
        "\n",
        "#OneHotEncoder 사용\n",
        "#먼저 숫자값으로 변환을 위해 LabelEncoder로 변환\n",
        "print('##원핫인코딩##')\n",
        "encoder = LabelEncoder()\n",
        "encoder.fit(items)\n",
        "labels = encoder.transform(items)\n",
        "print(labels)"
      ]
    },
    {
      "cell_type": "code",
      "execution_count": 13,
      "metadata": {},
      "outputs": [
        {
          "name": "stdout",
          "output_type": "stream",
          "text": [
            "[[4]\n",
            " [0]\n",
            " [5]\n",
            " [3]\n",
            " [1]\n",
            " [1]\n",
            " [2]\n",
            " [2]]\n"
          ]
        }
      ],
      "source": [
        "\n",
        "#2차원 데이터로 변환\n",
        "labels = labels.reshape(-1,1)\n",
        "print(labels)\n"
      ]
    },
    {
      "cell_type": "code",
      "execution_count": 14,
      "metadata": {},
      "outputs": [
        {
          "name": "stdout",
          "output_type": "stream",
          "text": [
            "원핫 인코딩 데이터\n",
            "[[0. 0. 0. 0. 1. 0.]\n",
            " [1. 0. 0. 0. 0. 0.]\n",
            " [0. 0. 0. 0. 0. 1.]\n",
            " [0. 0. 0. 1. 0. 0.]\n",
            " [0. 1. 0. 0. 0. 0.]\n",
            " [0. 1. 0. 0. 0. 0.]\n",
            " [0. 0. 1. 0. 0. 0.]\n",
            " [0. 0. 1. 0. 0. 0.]]\n",
            "원핫 인코딩 데이터 차원\n",
            "(8, 6)\n"
          ]
        }
      ],
      "source": [
        "oh_encoder = OneHotEncoder()\n",
        "oh_encoder.fit(labels)\n",
        "oh_labels = oh_encoder.transform(labels)\n",
        "print('원핫 인코딩 데이터')\n",
        "print(oh_labels.toarray())\n",
        "print('원핫 인코딩 데이터 차원')\n",
        "print(oh_labels.shape)"
      ]
    },
    {
      "attachments": {},
      "cell_type": "markdown",
      "metadata": {
        "id": "DT85NRsx6Mbt"
      },
      "source": [
        "- label encoding\n",
        "    - 범주형 변수의 N개 종류의 값들을 0 에서 n-1 값으로 숫자를 부여하는 인코딩이다."
      ]
    },
    {
      "cell_type": "code",
      "execution_count": 1,
      "metadata": {},
      "outputs": [],
      "source": [
        "# embarked 에 label encoding 을 적용해 보자"
      ]
    },
    {
      "cell_type": "code",
      "execution_count": 2,
      "metadata": {},
      "outputs": [],
      "source": [
        "# sex에 one hot encoding 을 적용해 보자.\n",
        "# male female\n",
        "#  0     1"
      ]
    },
    {
      "cell_type": "markdown",
      "metadata": {
        "id": "R3LjDWKg6MTl"
      },
      "source": [
        "- Ordinal encoding\n",
        "    - 순서형 변수에 매우 적합한 인코딩 방식\n",
        "    "
      ]
    },
    {
      "cell_type": "code",
      "execution_count": 20,
      "metadata": {
        "id": "0NEtyXqq-Xu2"
      },
      "outputs": [],
      "source": [
        "# target encoding # 정답값에 비율을 인코딩하는 것 , 정답값을 이용해서 피쳐를 만드는거라고 보면됨 "
      ]
    },
    {
      "cell_type": "code",
      "execution_count": 21,
      "metadata": {},
      "outputs": [
        {
          "data": {
            "text/plain": [
              "0      3\n",
              "1      1\n",
              "2      3\n",
              "3      1\n",
              "4      3\n",
              "      ..\n",
              "886    2\n",
              "887    1\n",
              "888    3\n",
              "889    1\n",
              "890    3\n",
              "Name: pclass, Length: 891, dtype: int64"
            ]
          },
          "execution_count": 21,
          "metadata": {},
          "output_type": "execute_result"
        }
      ],
      "source": [
        "x[\"pclass\"]"
      ]
    },
    {
      "cell_type": "code",
      "execution_count": 22,
      "metadata": {
        "colab": {
          "base_uri": "https://localhost:8080/"
        },
        "id": "19wAdSNm6MRd",
        "outputId": "e8f80079-2d42-4346-a65d-bf82e228ebd3"
      },
      "outputs": [
        {
          "data": {
            "text/plain": [
              "0      2\n",
              "1      0\n",
              "2      2\n",
              "3      0\n",
              "4      2\n",
              "      ..\n",
              "886    1\n",
              "887    0\n",
              "888    2\n",
              "889    0\n",
              "890    2\n",
              "Name: pclass, Length: 891, dtype: int64"
            ]
          },
          "execution_count": 22,
          "metadata": {},
          "output_type": "execute_result"
        }
      ],
      "source": [
        "ordinal_dict = {\n",
        "    1 : 0,\n",
        "    2 : 1,\n",
        "    3 : 2\n",
        "}\n",
        "x[\"pclass\"].map(ordinal_dict)"
      ]
    },
    {
      "cell_type": "code",
      "execution_count": 23,
      "metadata": {},
      "outputs": [
        {
          "name": "stderr",
          "output_type": "stream",
          "text": [
            "/tmp/ipykernel_20207/3247679055.py:1: SettingWithCopyWarning: \n",
            "A value is trying to be set on a copy of a slice from a DataFrame.\n",
            "Try using .loc[row_indexer,col_indexer] = value instead\n",
            "\n",
            "See the caveats in the documentation: https://pandas.pydata.org/pandas-docs/stable/user_guide/indexing.html#returning-a-view-versus-a-copy\n",
            "  x[\"pclass\"] = x[\"pclass\"].map(ordinal_dict)\n"
          ]
        }
      ],
      "source": [
        "x[\"pclass\"] = x[\"pclass\"].map(ordinal_dict)"
      ]
    },
    {
      "cell_type": "code",
      "execution_count": 24,
      "metadata": {},
      "outputs": [
        {
          "data": {
            "text/html": [
              "<div>\n",
              "<style scoped>\n",
              "    .dataframe tbody tr th:only-of-type {\n",
              "        vertical-align: middle;\n",
              "    }\n",
              "\n",
              "    .dataframe tbody tr th {\n",
              "        vertical-align: top;\n",
              "    }\n",
              "\n",
              "    .dataframe thead th {\n",
              "        text-align: right;\n",
              "    }\n",
              "</style>\n",
              "<table border=\"1\" class=\"dataframe\">\n",
              "  <thead>\n",
              "    <tr style=\"text-align: right;\">\n",
              "      <th></th>\n",
              "      <th>pclass</th>\n",
              "      <th>sex</th>\n",
              "      <th>age</th>\n",
              "      <th>sibsp</th>\n",
              "      <th>parch</th>\n",
              "      <th>fare</th>\n",
              "      <th>embarked</th>\n",
              "    </tr>\n",
              "  </thead>\n",
              "  <tbody>\n",
              "    <tr>\n",
              "      <th>0</th>\n",
              "      <td>2</td>\n",
              "      <td>male</td>\n",
              "      <td>22.0</td>\n",
              "      <td>1</td>\n",
              "      <td>0</td>\n",
              "      <td>7.2500</td>\n",
              "      <td>2</td>\n",
              "    </tr>\n",
              "    <tr>\n",
              "      <th>1</th>\n",
              "      <td>0</td>\n",
              "      <td>female</td>\n",
              "      <td>38.0</td>\n",
              "      <td>1</td>\n",
              "      <td>0</td>\n",
              "      <td>71.2833</td>\n",
              "      <td>0</td>\n",
              "    </tr>\n",
              "    <tr>\n",
              "      <th>2</th>\n",
              "      <td>2</td>\n",
              "      <td>female</td>\n",
              "      <td>26.0</td>\n",
              "      <td>0</td>\n",
              "      <td>0</td>\n",
              "      <td>7.9250</td>\n",
              "      <td>2</td>\n",
              "    </tr>\n",
              "    <tr>\n",
              "      <th>3</th>\n",
              "      <td>0</td>\n",
              "      <td>female</td>\n",
              "      <td>35.0</td>\n",
              "      <td>1</td>\n",
              "      <td>0</td>\n",
              "      <td>53.1000</td>\n",
              "      <td>2</td>\n",
              "    </tr>\n",
              "    <tr>\n",
              "      <th>4</th>\n",
              "      <td>2</td>\n",
              "      <td>male</td>\n",
              "      <td>35.0</td>\n",
              "      <td>0</td>\n",
              "      <td>0</td>\n",
              "      <td>8.0500</td>\n",
              "      <td>2</td>\n",
              "    </tr>\n",
              "  </tbody>\n",
              "</table>\n",
              "</div>"
            ],
            "text/plain": [
              "   pclass     sex   age  sibsp  parch     fare  embarked\n",
              "0       2    male  22.0      1      0   7.2500         2\n",
              "1       0  female  38.0      1      0  71.2833         0\n",
              "2       2  female  26.0      0      0   7.9250         2\n",
              "3       0  female  35.0      1      0  53.1000         2\n",
              "4       2    male  35.0      0      0   8.0500         2"
            ]
          },
          "execution_count": 24,
          "metadata": {},
          "output_type": "execute_result"
        }
      ],
      "source": [
        "x.head()"
      ]
    },
    {
      "cell_type": "markdown",
      "metadata": {
        "id": "mwvjgJ-l-ooO"
      },
      "source": [
        "- 원핫인코딩"
      ]
    },
    {
      "cell_type": "code",
      "execution_count": null,
      "metadata": {},
      "outputs": [],
      "source": []
    },
    {
      "cell_type": "markdown",
      "metadata": {
        "id": "kBBnVgUNDJJm"
      },
      "source": [
        "- 정답값"
      ]
    },
    {
      "cell_type": "code",
      "execution_count": 34,
      "metadata": {
        "colab": {
          "base_uri": "https://localhost:8080/"
        },
        "id": "VvCPu0FoDMiO",
        "outputId": "cce4039e-a051-48fd-a2e5-be333369ec07"
      },
      "outputs": [
        {
          "data": {
            "text/plain": [
              "(891,)"
            ]
          },
          "execution_count": 34,
          "metadata": {},
          "output_type": "execute_result"
        }
      ],
      "source": [
        "target = df[\"survived\"]\n",
        "target.shape"
      ]
    },
    {
      "cell_type": "code",
      "execution_count": 35,
      "metadata": {},
      "outputs": [
        {
          "data": {
            "text/html": [
              "<div>\n",
              "<style scoped>\n",
              "    .dataframe tbody tr th:only-of-type {\n",
              "        vertical-align: middle;\n",
              "    }\n",
              "\n",
              "    .dataframe tbody tr th {\n",
              "        vertical-align: top;\n",
              "    }\n",
              "\n",
              "    .dataframe thead th {\n",
              "        text-align: right;\n",
              "    }\n",
              "</style>\n",
              "<table border=\"1\" class=\"dataframe\">\n",
              "  <thead>\n",
              "    <tr style=\"text-align: right;\">\n",
              "      <th></th>\n",
              "      <th>pclass</th>\n",
              "      <th>age</th>\n",
              "      <th>sibsp</th>\n",
              "      <th>parch</th>\n",
              "      <th>fare</th>\n",
              "      <th>embarked</th>\n",
              "      <th>female</th>\n",
              "      <th>male</th>\n",
              "    </tr>\n",
              "  </thead>\n",
              "  <tbody>\n",
              "    <tr>\n",
              "      <th>0</th>\n",
              "      <td>2</td>\n",
              "      <td>22.0</td>\n",
              "      <td>1</td>\n",
              "      <td>0</td>\n",
              "      <td>7.2500</td>\n",
              "      <td>2</td>\n",
              "      <td>0.0</td>\n",
              "      <td>1.0</td>\n",
              "    </tr>\n",
              "    <tr>\n",
              "      <th>1</th>\n",
              "      <td>0</td>\n",
              "      <td>38.0</td>\n",
              "      <td>1</td>\n",
              "      <td>0</td>\n",
              "      <td>71.2833</td>\n",
              "      <td>0</td>\n",
              "      <td>1.0</td>\n",
              "      <td>0.0</td>\n",
              "    </tr>\n",
              "    <tr>\n",
              "      <th>2</th>\n",
              "      <td>2</td>\n",
              "      <td>26.0</td>\n",
              "      <td>0</td>\n",
              "      <td>0</td>\n",
              "      <td>7.9250</td>\n",
              "      <td>2</td>\n",
              "      <td>1.0</td>\n",
              "      <td>0.0</td>\n",
              "    </tr>\n",
              "    <tr>\n",
              "      <th>3</th>\n",
              "      <td>0</td>\n",
              "      <td>35.0</td>\n",
              "      <td>1</td>\n",
              "      <td>0</td>\n",
              "      <td>53.1000</td>\n",
              "      <td>2</td>\n",
              "      <td>1.0</td>\n",
              "      <td>0.0</td>\n",
              "    </tr>\n",
              "    <tr>\n",
              "      <th>4</th>\n",
              "      <td>2</td>\n",
              "      <td>35.0</td>\n",
              "      <td>0</td>\n",
              "      <td>0</td>\n",
              "      <td>8.0500</td>\n",
              "      <td>2</td>\n",
              "      <td>0.0</td>\n",
              "      <td>1.0</td>\n",
              "    </tr>\n",
              "  </tbody>\n",
              "</table>\n",
              "</div>"
            ],
            "text/plain": [
              "   pclass   age  sibsp  parch     fare  embarked  female  male\n",
              "0       2  22.0      1      0   7.2500         2     0.0   1.0\n",
              "1       0  38.0      1      0  71.2833         0     1.0   0.0\n",
              "2       2  26.0      0      0   7.9250         2     1.0   0.0\n",
              "3       0  35.0      1      0  53.1000         2     1.0   0.0\n",
              "4       2  35.0      0      0   8.0500         2     0.0   1.0"
            ]
          },
          "execution_count": 35,
          "metadata": {},
          "output_type": "execute_result"
        }
      ],
      "source": [
        "x.head()"
      ]
    },
    {
      "cell_type": "code",
      "execution_count": 37,
      "metadata": {},
      "outputs": [],
      "source": [
        "from sklearn.model_selection import train_test_split\n",
        "x_train, x_test, y_train, y_test = train_test_split(x, target)"
      ]
    },
    {
      "cell_type": "markdown",
      "metadata": {
        "id": "EMMko6m1-oe1"
      },
      "source": [
        "# Feature Scaling "
      ]
    },
    {
      "cell_type": "code",
      "execution_count": 38,
      "metadata": {
        "colab": {
          "base_uri": "https://localhost:8080/"
        },
        "id": "ISelIsl--ocg",
        "outputId": "468e2d1e-1989-42a8-a97c-972c09291e41"
      },
      "outputs": [
        {
          "name": "stderr",
          "output_type": "stream",
          "text": [
            "/home/apollo/anaconda3/envs/ml/lib/python3.8/site-packages/sklearn/linear_model/_logistic.py:444: ConvergenceWarning: lbfgs failed to converge (status=1):\n",
            "STOP: TOTAL NO. of ITERATIONS REACHED LIMIT.\n",
            "\n",
            "Increase the number of iterations (max_iter) or scale the data as shown in:\n",
            "    https://scikit-learn.org/stable/modules/preprocessing.html\n",
            "Please also refer to the documentation for alternative solver options:\n",
            "    https://scikit-learn.org/stable/modules/linear_model.html#logistic-regression\n",
            "  n_iter_i = _check_optimize_result(\n"
          ]
        },
        {
          "data": {
            "text/html": [
              "<style>#sk-container-id-1 {color: black;background-color: white;}#sk-container-id-1 pre{padding: 0;}#sk-container-id-1 div.sk-toggleable {background-color: white;}#sk-container-id-1 label.sk-toggleable__label {cursor: pointer;display: block;width: 100%;margin-bottom: 0;padding: 0.3em;box-sizing: border-box;text-align: center;}#sk-container-id-1 label.sk-toggleable__label-arrow:before {content: \"▸\";float: left;margin-right: 0.25em;color: #696969;}#sk-container-id-1 label.sk-toggleable__label-arrow:hover:before {color: black;}#sk-container-id-1 div.sk-estimator:hover label.sk-toggleable__label-arrow:before {color: black;}#sk-container-id-1 div.sk-toggleable__content {max-height: 0;max-width: 0;overflow: hidden;text-align: left;background-color: #f0f8ff;}#sk-container-id-1 div.sk-toggleable__content pre {margin: 0.2em;color: black;border-radius: 0.25em;background-color: #f0f8ff;}#sk-container-id-1 input.sk-toggleable__control:checked~div.sk-toggleable__content {max-height: 200px;max-width: 100%;overflow: auto;}#sk-container-id-1 input.sk-toggleable__control:checked~label.sk-toggleable__label-arrow:before {content: \"▾\";}#sk-container-id-1 div.sk-estimator input.sk-toggleable__control:checked~label.sk-toggleable__label {background-color: #d4ebff;}#sk-container-id-1 div.sk-label input.sk-toggleable__control:checked~label.sk-toggleable__label {background-color: #d4ebff;}#sk-container-id-1 input.sk-hidden--visually {border: 0;clip: rect(1px 1px 1px 1px);clip: rect(1px, 1px, 1px, 1px);height: 1px;margin: -1px;overflow: hidden;padding: 0;position: absolute;width: 1px;}#sk-container-id-1 div.sk-estimator {font-family: monospace;background-color: #f0f8ff;border: 1px dotted black;border-radius: 0.25em;box-sizing: border-box;margin-bottom: 0.5em;}#sk-container-id-1 div.sk-estimator:hover {background-color: #d4ebff;}#sk-container-id-1 div.sk-parallel-item::after {content: \"\";width: 100%;border-bottom: 1px solid gray;flex-grow: 1;}#sk-container-id-1 div.sk-label:hover label.sk-toggleable__label {background-color: #d4ebff;}#sk-container-id-1 div.sk-serial::before {content: \"\";position: absolute;border-left: 1px solid gray;box-sizing: border-box;top: 0;bottom: 0;left: 50%;z-index: 0;}#sk-container-id-1 div.sk-serial {display: flex;flex-direction: column;align-items: center;background-color: white;padding-right: 0.2em;padding-left: 0.2em;position: relative;}#sk-container-id-1 div.sk-item {position: relative;z-index: 1;}#sk-container-id-1 div.sk-parallel {display: flex;align-items: stretch;justify-content: center;background-color: white;position: relative;}#sk-container-id-1 div.sk-item::before, #sk-container-id-1 div.sk-parallel-item::before {content: \"\";position: absolute;border-left: 1px solid gray;box-sizing: border-box;top: 0;bottom: 0;left: 50%;z-index: -1;}#sk-container-id-1 div.sk-parallel-item {display: flex;flex-direction: column;z-index: 1;position: relative;background-color: white;}#sk-container-id-1 div.sk-parallel-item:first-child::after {align-self: flex-end;width: 50%;}#sk-container-id-1 div.sk-parallel-item:last-child::after {align-self: flex-start;width: 50%;}#sk-container-id-1 div.sk-parallel-item:only-child::after {width: 0;}#sk-container-id-1 div.sk-dashed-wrapped {border: 1px dashed gray;margin: 0 0.4em 0.5em 0.4em;box-sizing: border-box;padding-bottom: 0.4em;background-color: white;}#sk-container-id-1 div.sk-label label {font-family: monospace;font-weight: bold;display: inline-block;line-height: 1.2em;}#sk-container-id-1 div.sk-label-container {text-align: center;}#sk-container-id-1 div.sk-container {/* jupyter's `normalize.less` sets `[hidden] { display: none; }` but bootstrap.min.css set `[hidden] { display: none !important; }` so we also need the `!important` here to be able to override the default hidden behavior on the sphinx rendered scikit-learn.org. See: https://github.com/scikit-learn/scikit-learn/issues/21755 */display: inline-block !important;position: relative;}#sk-container-id-1 div.sk-text-repr-fallback {display: none;}</style><div id=\"sk-container-id-1\" class=\"sk-top-container\"><div class=\"sk-text-repr-fallback\"><pre>LogisticRegression(random_state=1234)</pre><b>In a Jupyter environment, please rerun this cell to show the HTML representation or trust the notebook. <br />On GitHub, the HTML representation is unable to render, please try loading this page with nbviewer.org.</b></div><div class=\"sk-container\" hidden><div class=\"sk-item\"><div class=\"sk-estimator sk-toggleable\"><input class=\"sk-toggleable__control sk-hidden--visually\" id=\"sk-estimator-id-1\" type=\"checkbox\" checked><label for=\"sk-estimator-id-1\" class=\"sk-toggleable__label sk-toggleable__label-arrow\">LogisticRegression</label><div class=\"sk-toggleable__content\"><pre>LogisticRegression(random_state=1234)</pre></div></div></div></div></div>"
            ],
            "text/plain": [
              "LogisticRegression(random_state=1234)"
            ]
          },
          "execution_count": 38,
          "metadata": {},
          "output_type": "execute_result"
        }
      ],
      "source": [
        "from sklearn.linear_model import LogisticRegression\n",
        "\n",
        "SEED = 1234\n",
        "model = LogisticRegression(random_state=SEED)\n",
        "model.fit(x_train,y_train)"
      ]
    },
    {
      "cell_type": "code",
      "execution_count": 44,
      "metadata": {
        "colab": {
          "base_uri": "https://localhost:8080/"
        },
        "id": "pl-TvizH-oZ8",
        "outputId": "07f481d7-251a-4259-9f0a-f81317290d90"
      },
      "outputs": [],
      "source": [
        "from sklearn.metrics import roc_auc_score\n",
        "\n",
        "pred = model.predict_proba(x_test)[:,1]"
      ]
    },
    {
      "cell_type": "code",
      "execution_count": 46,
      "metadata": {},
      "outputs": [
        {
          "data": {
            "text/plain": [
              "0.8632399798759013"
            ]
          },
          "execution_count": 46,
          "metadata": {},
          "output_type": "execute_result"
        }
      ],
      "source": [
        "roc_auc_score(y_test,pred)"
      ]
    },
    {
      "cell_type": "code",
      "execution_count": 47,
      "metadata": {
        "colab": {
          "base_uri": "https://localhost:8080/",
          "height": 369
        },
        "id": "OTSE07Dr-oSm",
        "outputId": "559e9332-a56d-4588-af6b-5355c7510eca"
      },
      "outputs": [
        {
          "data": {
            "image/png": "[encoded data removed]",
            "text/plain": [
              "<Figure size 500x500 with 1 Axes>"
            ]
          },
          "metadata": {},
          "output_type": "display_data"
        }
      ],
      "source": [
        "import matplotlib.pyplot as plt\n",
        "import seaborn as sns\n",
        "sns.displot(x_train[\"fare\"],kde=True)\n",
        "plt.show()"
      ]
    },
    {
      "cell_type": "markdown",
      "metadata": {
        "id": "lnQCNBmu-oP2"
      },
      "source": [
        "## Standardization (표준화)\n",
        "- 평균과 표준편차를 이용하여 모든 피쳐의 평균을 0, 분산을 1인 값으로 변환\n",
        "- 이상치가 있다면 평균과 표준편차에 영향을 미친다.\n"
      ]
    },
    {
      "cell_type": "code",
      "execution_count": 48,
      "metadata": {
        "colab": {
          "base_uri": "https://localhost:8080/",
          "height": 369
        },
        "id": "MSqOGQVG-oNd",
        "outputId": "9d532952-443e-4db9-dfef-78825c3d4099"
      },
      "outputs": [
        {
          "data": {
            "image/png": "[encoded data removed]",
            "text/plain": [
              "<Figure size 500x500 with 1 Axes>"
            ]
          },
          "metadata": {},
          "output_type": "display_data"
        }
      ],
      "source": [
        "from sklearn.preprocessing import StandardScaler\n",
        "scaler = StandardScaler()\n",
        "\n",
        "x_train_sc = scaler.fit_transform(x_train) # numpy 형태로 반환\n",
        "sns.displot(x_train_sc[:,4],kde=True) # fare가 4번째 인덱스에 있음\n",
        "plt.show()"
      ]
    },
    {
      "cell_type": "markdown",
      "metadata": {
        "id": "kyX3oFOA-oLD"
      },
      "source": [
        "## Min-Max Scaling\n",
        "- Features의 최소값, 최대값을 이용해서 0을 정규화한다.ㅇ"
      ]
    },
    {
      "cell_type": "code",
      "execution_count": 49,
      "metadata": {
        "colab": {
          "base_uri": "https://localhost:8080/",
          "height": 369
        },
        "id": "n_DNcXtu-oIl",
        "outputId": "5bd7d8ee-1ff1-4c75-ef12-bdc19268a2d5"
      },
      "outputs": [
        {
          "data": {
            "image/png": "[encoded data removed]",
            "text/plain": [
              "<Figure size 500x500 with 1 Axes>"
            ]
          },
          "metadata": {},
          "output_type": "display_data"
        }
      ],
      "source": [
        "from sklearn.preprocessing import MinMaxScaler\n",
        "\n",
        "scaler = MinMaxScaler()\n",
        "x_train_sc = scaler.fit_transform(x_train)\n",
        "\n",
        "sns.displot(x_train_sc[:,4],kde=True)\n",
        "plt.show()"
      ]
    },
    {
      "cell_type": "markdown",
      "metadata": {
        "id": "KO20LpRu-oGN"
      },
      "source": [
        "## Power Transformation \n",
        "- 거듭제곱 변환을 적용하여서 데이터를 정규분포와 유사하게 변환\n"
      ]
    },
    {
      "cell_type": "code",
      "execution_count": 50,
      "metadata": {
        "colab": {
          "base_uri": "https://localhost:8080/",
          "height": 369
        },
        "id": "JMZLnZB4-oDv",
        "outputId": "edb5559e-9a6f-47c5-88f6-a23795a59678"
      },
      "outputs": [
        {
          "data": {
            "image/png": "[encoded data removed]",
            "text/plain": [
              "<Figure size 500x500 with 1 Axes>"
            ]
          },
          "metadata": {},
          "output_type": "display_data"
        }
      ],
      "source": [
        "from sklearn.preprocessing import PowerTransformer\n",
        "scaler = PowerTransformer()\n",
        "x_train_sc = scaler.fit_transform(x_train)\n",
        "sns.displot(x_train_sc[:,4],kde=True)\n",
        "plt.show()"
      ]
    },
    {
      "cell_type": "markdown",
      "metadata": {
        "id": "NnmD0F58-oBe"
      },
      "source": [
        "## RoboutsScaler \n",
        "- 평균과 분산 대신 중간값과 사분위수값을 사용\n",
        "- 이상치 영향을 최소화 "
      ]
    },
    {
      "cell_type": "code",
      "execution_count": 51,
      "metadata": {
        "colab": {
          "base_uri": "https://localhost:8080/",
          "height": 369
        },
        "id": "Hzbk0OZF-n-9",
        "outputId": "bed25e2a-23c6-4204-d9ae-6462bc8d9b14"
      },
      "outputs": [
        {
          "data": {
            "image/png": "[encoded data removed]",
            "text/plain": [
              "<Figure size 500x500 with 1 Axes>"
            ]
          },
          "metadata": {},
          "output_type": "display_data"
        }
      ],
      "source": [
        "from sklearn.preprocessing import RobustScaler\n",
        "scaler = RobustScaler()\n",
        "x_train_sc = scaler.fit_transform(x_train)\n",
        "sns.displot(x_train_sc[:,4],kde=True)\n",
        "plt.show()"
      ]
    },
    {
      "cell_type": "code",
      "execution_count": 53,
      "metadata": {
        "colab": {
          "base_uri": "https://localhost:8080/"
        },
        "id": "vco5JLUE-n8l",
        "outputId": "25516102-b6d0-43e0-872b-20f3f3b12c2a"
      },
      "outputs": [
        {
          "data": {
            "text/plain": [
              "0.8627368774106993"
            ]
          },
          "execution_count": 53,
          "metadata": {},
          "output_type": "execute_result"
        }
      ],
      "source": [
        "scaler = StandardScaler()\n",
        "scaler.fit(x_train)\n",
        "\n",
        "model = LogisticRegression(random_state=SEED)\n",
        "model.fit(scaler.transform(x_train),y_train)\n",
        "\n",
        "pred = model.predict_proba(scaler.transform(x_test))[:,1]\n",
        "roc_auc_score(y_test,pred)"
      ]
    },
    {
      "cell_type": "markdown",
      "metadata": {
        "id": "uCMDL-ulpgNo"
      },
      "source": [
        "- minmaxscaler"
      ]
    },
    {
      "cell_type": "code",
      "execution_count": 56,
      "metadata": {
        "colab": {
          "base_uri": "https://localhost:8080/"
        },
        "id": "nruiHYwI-n4P",
        "outputId": "81dc42fd-4971-41b3-8736-1505400199b7"
      },
      "outputs": [
        {
          "data": {
            "text/plain": [
              "0.8660908938453799"
            ]
          },
          "execution_count": 56,
          "metadata": {},
          "output_type": "execute_result"
        }
      ],
      "source": [
        "scaler = MinMaxScaler()\n",
        "scaler.fit(x_train)\n",
        "\n",
        "model = LogisticRegression(random_state=SEED)\n",
        "model.fit(scaler.transform(x_train),y_train)\n",
        "\n",
        "pred = model.predict_proba(scaler.transform(x_test))[:,1]\n",
        "roc_auc_score(y_test,pred)"
      ]
    },
    {
      "cell_type": "code",
      "execution_count": 58,
      "metadata": {
        "colab": {
          "base_uri": "https://localhost:8080/"
        },
        "id": "Ce-5PKoC6MPV",
        "outputId": "076f864d-e193-47b8-bec2-4fc2201b3dbb"
      },
      "outputs": [
        {
          "data": {
            "text/plain": [
              "0.8597182626194868"
            ]
          },
          "execution_count": 58,
          "metadata": {},
          "output_type": "execute_result"
        }
      ],
      "source": [
        "scaler = PowerTransformer()\n",
        "scaler.fit(x_train)\n",
        "\n",
        "model = LogisticRegression(random_state=SEED)\n",
        "model.fit(scaler.transform(x_train),y_train)\n",
        "\n",
        "pred = model.predict_proba(scaler.transform(x_test))[:,1]\n",
        "roc_auc_score(y_test,pred)"
      ]
    },
    {
      "cell_type": "code",
      "execution_count": 59,
      "metadata": {
        "colab": {
          "base_uri": "https://localhost:8080/"
        },
        "id": "8vT7Xl006MNe",
        "outputId": "50e6d8ce-a911-4965-9d3d-1953a457a6c9"
      },
      "outputs": [
        {
          "data": {
            "text/plain": [
              "0.8630722790541674"
            ]
          },
          "execution_count": 59,
          "metadata": {},
          "output_type": "execute_result"
        }
      ],
      "source": [
        "scaler = RobustScaler()\n",
        "scaler.fit(x_train)\n",
        "\n",
        "model = LogisticRegression(random_state=SEED)\n",
        "model.fit(scaler.transform(x_train),y_train)\n",
        "\n",
        "pred = model.predict_proba(scaler.transform(x_test))[:,1]\n",
        "roc_auc_score(y_test,pred)"
      ]
    },
    {
      "cell_type": "code",
      "execution_count": null,
      "metadata": {},
      "outputs": [],
      "source": []
    }
  ],
  "metadata": {
    "colab": {
      "authorship_tag": "ABX9TyNktxdbYEIawlICApjcd9on",
      "include_colab_link": true,
      "provenance": []
    },
    "kernelspec": {
      "display_name": "ml",
      "language": "python",
      "name": "python3"
    },
    "language_info": {
      "codemirror_mode": {
        "name": "ipython",
        "version": 3
      },
      "file_extension": ".py",
      "mimetype": "text/x-python",
      "name": "python",
      "nbconvert_exporter": "python",
      "pygments_lexer": "ipython3",
      "version": "3.8.15"
    },
    "vscode": {
      "interpreter": {
        "hash": "106dcd2154cfa932e62c1d0bc1ce9c27a83b078e0171c73c85fcd8f00976afbc"
      }
    }
  },
  "nbformat": 4,
  "nbformat_minor": 0
}
